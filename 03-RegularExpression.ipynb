{
 "cells": [
  {
   "cell_type": "markdown",
   "metadata": {},
   "source": [
    "https://www.debuggex.com/cheatsheet/regex/python\n",
    "https://www.kaggle.com/rishabh6377/start-your-regex-journey-part1"
   ]
  },
  {
   "cell_type": "markdown",
   "metadata": {},
   "source": [
    "Useful Metacharacter:\n",
    "/d for digit match (only useful in matching digits)\n",
    "/D for non-digit (everything except digits)\n",
    "/w for word matching (it will match all alphabetic plus all digits but no special characters)\n",
    "/W for non-word matching (all special characters)\n",
    "/s for whitespace matching\n",
    "/S for non-whitespace matching"
   ]
  },
  {
   "cell_type": "markdown",
   "metadata": {},
   "source": [
    "Useful Quantifiers:\n",
    "Quantifers are used to match characters,numbers,special character etc multiple times\n",
    "\"+\" Use to match once or more\n",
    "\"*\" Use to match zero or more\n",
    "\"?\" Use to match zero or once\n",
    "{minimum,maximum} we can use curly brackets followed by two arguments minimum match and maximum match."
   ]
  },
  {
   "cell_type": "code",
   "execution_count": 1,
   "metadata": {},
   "outputs": [],
   "source": [
    "import re"
   ]
  },
  {
   "cell_type": "code",
   "execution_count": 2,
   "metadata": {},
   "outputs": [
    {
     "name": "stdout",
     "output_type": "stream",
     "text": [
      "I would like some pie.\n",
      "I would like some pie.\n"
     ]
    }
   ],
   "source": [
    "print('I would like some vegetables.'.replace('vegetables', 'pie'))\n",
    "print(re.sub('vegetables', 'pie', 'I would like some vegetables.'))"
   ]
  },
  {
   "cell_type": "code",
   "execution_count": 4,
   "metadata": {},
   "outputs": [
    {
     "name": "stdout",
     "output_type": "stream",
     "text": [
      "I would like some pie, pie, and pie.\n"
     ]
    }
   ],
   "source": [
    "veggie_request = 'I would like some vegetables, vitamins, and water.'\n",
    "print(re.sub('vegetables|vitamins|water', 'pie', veggie_request))"
   ]
  },
  {
   "cell_type": "code",
   "execution_count": 5,
   "metadata": {},
   "outputs": [
    {
     "name": "stdout",
     "output_type": "stream",
     "text": [
      "1234567890\n"
     ]
    }
   ],
   "source": [
    "messy_phone_number = '(123) 456-7890'\n",
    "print(re.sub(r'\\D', '', messy_phone_number))   #all non-digit characters "
   ]
  },
  {
   "cell_type": "code",
   "execution_count": 6,
   "metadata": {},
   "outputs": [
    {
     "name": "stdout",
     "output_type": "stream",
     "text": [
      "1234567890\n",
      "1234567890thisisnotavalidphonenumber\n"
     ]
    }
   ],
   "source": [
    "really_messy_number = messy_phone_number + ' this is not a valid phone number'\n",
    "print(re.sub(r'\\D', '', really_messy_number))\n",
    "print(re.sub(r'[-.() ]', '', really_messy_number))"
   ]
  },
  {
   "cell_type": "markdown",
   "metadata": {},
   "source": [
    "#### findall"
   ]
  },
  {
   "cell_type": "code",
   "execution_count": 7,
   "metadata": {},
   "outputs": [
    {
     "data": {
      "text/plain": [
       "['1234567890']"
      ]
     },
     "execution_count": 7,
     "metadata": {},
     "output_type": "execute_result"
    }
   ],
   "source": [
    "#Quantifiers\n",
    "buried_phone_number = 'You are the 987th caller in line for 1234567890. Please continue to hold.'\n",
    "re.findall(r'\\d{10}', buried_phone_number)"
   ]
  },
  {
   "cell_type": "code",
   "execution_count": 8,
   "metadata": {},
   "outputs": [
    {
     "data": {
      "text/plain": [
       "['123']"
      ]
     },
     "execution_count": 8,
     "metadata": {},
     "output_type": "execute_result"
    }
   ],
   "source": [
    "#Lookarounds\n",
    "re.findall(r'\\d{3}(?=\\d{7})', buried_phone_number)"
   ]
  },
  {
   "cell_type": "code",
   "execution_count": 9,
   "metadata": {},
   "outputs": [
    {
     "data": {
      "text/plain": [
       "['Tom', 'tom']"
      ]
     },
     "execution_count": 9,
     "metadata": {},
     "output_type": "execute_result"
    }
   ],
   "source": [
    "#Flags\n",
    "wordy_tom = \"\"\"Tom. Let's talk about him. He often forgets to capitalize tom, his name. Oh, and don't match tomorrow.\"\"\"\n",
    "re.findall(r'(?i)\\bTom\\b', wordy_tom)"
   ]
  },
  {
   "cell_type": "code",
   "execution_count": 13,
   "metadata": {},
   "outputs": [],
   "source": [
    "tweet = \"@rishabh i know you are very smart. but not more than me. You can follow this link \\\n",
    "https://www.kaggle.com @abc34 @56byugi @!kaggle\""
   ]
  },
  {
   "cell_type": "code",
   "execution_count": 14,
   "metadata": {},
   "outputs": [
    {
     "name": "stdout",
     "output_type": "stream",
     "text": [
      "['@56']\n",
      "['@rishabh i know you are very smart. but not more than me. You can follow this link https://www.kaggle.com @abc', '@!kaggle']\n",
      "['@rishabh', '@abc34', '@56byugi']\n",
      "['@!']\n",
      "[]\n",
      "['@rishabh', '@abc34', '@56byugi', '@!kaggle']\n"
     ]
    }
   ],
   "source": [
    "#Using + quantifier\n",
    "print(re.findall(r\"@\\d+\",tweet)) \n",
    "print(re.findall(r\"@\\D+\",tweet))  \n",
    "print(re.findall(r\"@\\w+\",tweet)) \n",
    "print(re.findall(r\"@\\W+\",tweet)) \n",
    "print(re.findall(r\"@\\s+\",tweet)) \n",
    "print(re.findall(r\"@\\S+\",tweet))"
   ]
  },
  {
   "cell_type": "code",
   "execution_count": 15,
   "metadata": {},
   "outputs": [
    {
     "name": "stdout",
     "output_type": "stream",
     "text": [
      "['@', '@', '@56', '@']\n",
      "['@rishabh i know you are very smart. but not more than me. You can follow this link https://www.kaggle.com @abc', '@', '@!kaggle']\n",
      "['@rishabh', '@abc34', '@56byugi', '@']\n",
      "['@', '@', '@', '@!']\n",
      "['@', '@', '@', '@']\n",
      "['@rishabh', '@abc34', '@56byugi', '@!kaggle']\n"
     ]
    }
   ],
   "source": [
    "#Using * quantifier\n",
    "print(re.findall(r\"@\\d*\",tweet)) \n",
    "print(re.findall(r\"@\\D*\",tweet))  \n",
    "print(re.findall(r\"@\\w*\",tweet)) \n",
    "print(re.findall(r\"@\\W*\",tweet)) \n",
    "print(re.findall(r\"@\\s*\",tweet)) \n",
    "print(re.findall(r\"@\\S*\",tweet))"
   ]
  },
  {
   "cell_type": "code",
   "execution_count": null,
   "metadata": {},
   "outputs": [],
   "source": [
    "#Using ? quantifier\n",
    "print(re.findall(r\"@\\d?\",tweet)) \n",
    "print(re.findall(r\"@\\D?\",tweet))  \n",
    "print(re.findall(r\"@\\w?\",tweet)) \n",
    "print(re.findall(r\"@\\W?\",tweet)) \n",
    "print(re.findall(r\"@\\s?\",tweet)) \n",
    "print(re.findall(r\"@\\S?\",tweet))"
   ]
  },
  {
   "cell_type": "markdown",
   "metadata": {},
   "source": [
    "#### Replacing,Spliting Using RegEx\n",
    "To replace a substring in a string with another substring we can use sub function of re.\n",
    "\n",
    "To split a string followed by some pattern we can use split functoin of re"
   ]
  },
  {
   "cell_type": "code",
   "execution_count": 16,
   "metadata": {},
   "outputs": [],
   "source": [
    "sample= \"ITS NOT ENOUGH TO SAY THAT IMISS U #MissYou #SoMuch #Friendship #Forever\""
   ]
  },
  {
   "cell_type": "code",
   "execution_count": 17,
   "metadata": {},
   "outputs": [
    {
     "name": "stdout",
     "output_type": "stream",
     "text": [
      "ITS NOT ENOUGH TO SAY THAT IMISS U    \n"
     ]
    }
   ],
   "source": [
    "regex_pattern = r\"#\\w+\"\n",
    "print(re.sub(regex_pattern,\"\",sample)) #It takes 3 parameters : regex,new_substring,original_string"
   ]
  },
  {
   "cell_type": "code",
   "execution_count": 19,
   "metadata": {},
   "outputs": [
    {
     "name": "stdout",
     "output_type": "stream",
     "text": [
      "['55871', 'is', 'the', 'zip', 'code', 'of', 'the', 'mars', 'and', '457', 'is', 'zip', 'code', 'of', 'saturn']\n"
     ]
    }
   ],
   "source": [
    "regex_pattern = r\"\\s+\"\n",
    "print(re.split(regex_pattern,sample))"
   ]
  },
  {
   "cell_type": "markdown",
   "metadata": {},
   "source": [
    "#### Search and Match function\n",
    "match checks for a match only at the beginning of the string, while search checks for a match anywhere in the string"
   ]
  },
  {
   "cell_type": "code",
   "execution_count": 18,
   "metadata": {},
   "outputs": [
    {
     "name": "stdout",
     "output_type": "stream",
     "text": [
      "<re.Match object; span=(0, 5), match='55871'>\n",
      "<re.Match object; span=(0, 5), match='55871'>\n"
     ]
    }
   ],
   "source": [
    "sample = \"55871 is the zip code of the mars and 457 is zip code of saturn\"\n",
    "regex_pattern = r\"\\d+\"\n",
    "print(re.search(regex_pattern,sample))\n",
    "print(re.match(regex_pattern,sample))"
   ]
  },
  {
   "cell_type": "code",
   "execution_count": null,
   "metadata": {},
   "outputs": [],
   "source": []
  }
 ],
 "metadata": {
  "kernelspec": {
   "display_name": "Python 3",
   "language": "python",
   "name": "python3"
  },
  "language_info": {
   "codemirror_mode": {
    "name": "ipython",
    "version": 3
   },
   "file_extension": ".py",
   "mimetype": "text/x-python",
   "name": "python",
   "nbconvert_exporter": "python",
   "pygments_lexer": "ipython3",
   "version": "3.7.6"
  }
 },
 "nbformat": 4,
 "nbformat_minor": 4
}
